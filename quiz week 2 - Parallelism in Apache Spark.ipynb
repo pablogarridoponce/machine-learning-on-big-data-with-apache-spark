{
    "cells": [
        {
            "cell_type": "markdown",
            "metadata": {},
            "source": "This notebook is designed to run in a IBM Watson Studio default runtime (NOT the Watson Studio Apache Spark Runtime as the default runtime with 1 vCPU is free of charge). Therefore, we install Apache Spark in local mode for test purposes only. Please don't use it in production.\n\nIn case you are facing issues, please read the following two documents first:\n\nhttps://github.com/IBM/skillsnetwork/wiki/Environment-Setup\n\nhttps://github.com/IBM/skillsnetwork/wiki/FAQ\n\nThen, please feel free to ask:\n\nhttps://coursera.org/learn/machine-learning-big-data-apache-spark/discussions/all\n\nPlease make sure to follow the guidelines before asking a question:\n\nhttps://github.com/IBM/skillsnetwork/wiki/FAQ#im-feeling-lost-and-confused-please-help-me\n\n\nIf running outside Watson Studio, this should work as well. In case you are running in an Apache Spark context outside Watson Studio, please remove the Apache Spark setup in the first notebook cells."
        },
        {
            "cell_type": "code",
            "execution_count": 1,
            "metadata": {},
            "outputs": [],
            "source": "from IPython.display import Markdown, display\ndef printmd(string):\n    display(Markdown('# <span style=\"color:red\">'+string+'</span>'))\n\n\nif ('sc' in locals() or 'sc' in globals()):\n    printmd('<<<<<!!!!! It seems that you are running in a IBM Watson Studio Apache Spark Notebook. Please run it in an IBM Watson Studio Default Runtime (without Apache Spark) !!!!!>>>>>')\n"
        },
        {
            "cell_type": "code",
            "execution_count": 2,
            "metadata": {},
            "outputs": [
                {
                    "name": "stdout",
                    "output_type": "stream",
                    "text": "Requirement already satisfied: pyspark==2.4.5 in /opt/conda/envs/Python36/lib/python3.6/site-packages (2.4.5)\r\nRequirement already satisfied: py4j==0.10.7 in /opt/conda/envs/Python36/lib/python3.6/site-packages (from pyspark==2.4.5) (0.10.7)\r\n"
                }
            ],
            "source": "!pip install pyspark==2.4.5"
        },
        {
            "cell_type": "code",
            "execution_count": 3,
            "metadata": {},
            "outputs": [],
            "source": "try:\n    from pyspark import SparkContext, SparkConf\n    from pyspark.sql import SparkSession\nexcept ImportError as e:\n    printmd('<<<<<!!!!! Please restart your kernel after installing Apache Spark !!!!!>>>>>')"
        },
        {
            "cell_type": "code",
            "execution_count": 4,
            "metadata": {},
            "outputs": [],
            "source": "sc = SparkContext.getOrCreate(SparkConf().setMaster(\"local[*]\"))\n\nspark = SparkSession \\\n    .builder \\\n    .getOrCreate()"
        },
        {
            "cell_type": "markdown",
            "metadata": {
                "collapsed": true
            },
            "source": "Welcome to exercise one of week two of \u201cApache Spark for Scalable Machine Learning on BigData\u201d. In this exercise you\u2019ll read a DataFrame in order to perform a simple statistical analysis. Then you\u2019ll rebalance the dataset. No worries, we\u2019ll explain everything to you, let\u2019s get started.\n\nLet\u2019s create a data frame from a remote file by downloading it:\n\n\n"
        },
        {
            "cell_type": "code",
            "execution_count": 88,
            "metadata": {},
            "outputs": [],
            "source": "from random import *\n#create rdd\ndata1 = ([10],[10],[5],[6],[10],[10],[10],[10],[7],[4])\n#rdd=sc.parallelize(data)\n#rdd.count()\n#rdd.take(10)\n#mean value\n#sum=rdd.sum()\n#n=rdd.count()\n#mean=sum/float(n)\n#print(mean)"
        },
        {
            "cell_type": "markdown",
            "metadata": {},
            "source": "Let\u2019s have a look at the data set first. This dataset contains sensor recordings from different movement activities as we will see in the next week\u2019s lectures. X, Y and Z contain accelerometer sensor values whereas the class field contains information about which movement has been recorded. The source field is optional and can be used for data lineage since it contains the file name of the original file where the particular row was imported from.\n\nMore details on the data set can be found here:\nhttps://github.com/wchill/HMP_Dataset\n"
        },
        {
            "cell_type": "code",
            "execution_count": 89,
            "metadata": {},
            "outputs": [
                {
                    "name": "stdout",
                    "output_type": "stream",
                    "text": "+-----+\n|lista|\n+-----+\n|   10|\n|   10|\n|    5|\n|    6|\n|   10|\n|   10|\n|   10|\n|   10|\n|    7|\n|    4|\n+-----+\n\nroot\n |-- lista: long (nullable = true)\n\n"
                }
            ],
            "source": "df=spark.createDataFrame(data,['lista'])\ndf.createOrReplaceTempView('df')\ndf.show()\ndf.printSchema()\n"
        },
        {
            "cell_type": "markdown",
            "metadata": {},
            "source": "This is a classical classification data set. One thing we always do during data analysis is checking if the classes are balanced. In other words, if there are more or less the same number of example in each class. Let\u2019s find out by a simple aggregation using SQL."
        },
        {
            "cell_type": "code",
            "execution_count": 90,
            "metadata": {},
            "outputs": [
                {
                    "name": "stdout",
                    "output_type": "stream",
                    "text": "+-----+--------+\n|lista|count(1)|\n+-----+--------+\n|    7|       1|\n|    6|       1|\n|    5|       1|\n|   10|       6|\n|    4|       1|\n+-----+--------+\n\n"
                }
            ],
            "source": "spark.sql('select lista,count(*) from df group by lista').show()"
        },
        {
            "cell_type": "code",
            "execution_count": null,
            "metadata": {},
            "outputs": [],
            "source": ""
        },
        {
            "cell_type": "markdown",
            "metadata": {},
            "source": "As you can see there is quite an imbalance between classes. Before we dig into this, let\u2019s re-write the same query using the DataFrame API \u2013 just in case you are not familiar with SQL. As we\u2019ve learned before, it doesn\u2019t matter if you express your queries with SQL or the DataFrame API \u2013 it all gets boiled down into the same execution plan optimized by Tungsten and accelerated by Catalyst. You can even mix and match SQL and DataFrame API code if you like.\n\nAgain, more details on the API can be found here:\nhttps://spark.apache.org/docs/latest/api/python/pyspark.sql.html#pyspark.sql.DataFrame\n"
        },
        {
            "cell_type": "code",
            "execution_count": 91,
            "metadata": {
                "pixiedust": {
                    "displayParams": {
                        "handlerId": "barChart",
                        "keyFields": "lista",
                        "valueFields": "count"
                    }
                }
            },
            "outputs": [
                {
                    "data": {
                        "text/html": "<style type=\"text/css\">.pd_warning{display:none;}</style><div class=\"pd_warning\"><em>Hey, there's something awesome here! To see it, open this notebook outside GitHub, in a viewer like Jupyter</em></div>\n        <div class=\"pd_save is-viewer-good\" style=\"padding-right:10px;text-align: center;line-height:initial !important;font-size: xx-large;font-weight: 500;color: coral;\">\n            \n        </div>\n    <div id=\"chartFigure70893e74\" class=\"pd_save is-viewer-good\" style=\"overflow-x:auto\">\n            \n                    \n                            <center><img style=\"max-width:initial !important\" src=\"data:image/png;base64,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\" class=\"pd_save\"></center>\n                        \n                    \n                \n        </div>",
                        "text/plain": "<IPython.core.display.HTML object>"
                    },
                    "metadata": {},
                    "output_type": "display_data"
                }
            ],
            "source": "from pixiedust.display import *\nfrom pyspark.sql.functions import col\ncounts = df.groupBy('lista').count().orderBy('count')\ndisplay(counts)"
        },
        {
            "cell_type": "markdown",
            "metadata": {},
            "source": "Let\u2019s create a bar plot from this data. We\u2019re using the pixidust library, which is Open Source, because of its simplicity. But any other library like matplotlib is fine as well. "
        },
        {
            "cell_type": "code",
            "execution_count": 92,
            "metadata": {
                "pixiedust": {
                    "displayParams": {
                        "handlerId": "barChart",
                        "keyFields": "class",
                        "legend": "true",
                        "mpld3": "false",
                        "orientation": "horizontal",
                        "rendererId": "matplotlib",
                        "sortby": "Values ASC",
                        "valueFields": "count"
                    }
                }
            },
            "outputs": [
                {
                    "name": "stdout",
                    "output_type": "stream",
                    "text": "+---+---+----+----------------+-----------+\n|min|max|mean|          stddev|minmaxratio|\n+---+---+----+----------------+-----------+\n|  1|  6| 2.0|2.23606797749979|        6.0|\n+---+---+----+----------------+-----------+\n\n"
                }
            ],
            "source": "from pyspark.sql.functions import col, min, max, mean, stddev\ndf \\\n    .groupBy('lista') \\\n    .count() \\\n    .select([ \n        min(col(\"count\")).alias('min'), \n        max(col(\"count\")).alias('max'), \n        mean(col(\"count\")).alias('mean'), \n        stddev(col(\"count\")).alias('stddev') \n    ]) \\\n    .select([\n        col('*'),\n        (col(\"max\") / col(\"min\")).alias('minmaxratio')\n    ]) \\\n    .show()"
        },
        {
            "cell_type": "markdown",
            "metadata": {},
            "source": "This looks nice, but it would be nice if we can aggregate further to obtain some quantitative metrics on the imbalance like, min, max, mean and standard deviation. If we divide max by min we get a measure called minmax ration which tells us something about the relationship between the smallest and largest class. Again, let\u2019s first use SQL for those of you familiar with SQL. Don\u2019t be scared, we\u2019re used nested sub-selects, basically selecting from a result of a SQL query like it was a table. All within on SQL statement."
        },
        {
            "cell_type": "code",
            "execution_count": 107,
            "metadata": {},
            "outputs": [
                {
                    "name": "stdout",
                    "output_type": "stream",
                    "text": "+-----+----------+\n|lista|avg(lista)|\n+-----+----------+\n|    7|       7.0|\n|    6|       6.0|\n|    5|       5.0|\n|   10|      10.0|\n|    4|       4.0|\n+-----+----------+\n\n"
                }
            ],
            "source": "spark.sql('select lista, mean(*) from df group by lista').show()"
        },
        {
            "cell_type": "markdown",
            "metadata": {},
            "source": "The same query can be expressed using the DataFrame API. Again, don\u2019t be scared. It\u2019s just a sequential expression of transformation steps. You now an choose which syntax you like better."
        },
        {
            "cell_type": "code",
            "execution_count": 268,
            "metadata": {},
            "outputs": [
                {
                    "data": {
                        "text/plain": "[7, 6, 5, 4, 5, 6, 7, 8, 9, 10]"
                    },
                    "execution_count": 268,
                    "metadata": {},
                    "output_type": "execute_result"
                }
            ],
            "source": "#list of numbers definition\nimport random\nfrom pyspark.mllib.stat import Statistics\ndata2=(7,6,5,4,5,6,7,8,9,10)\n#data2=(range(100))\nrdd=sc.parallelize(data2)\nrdd.take(12)"
        },
        {
            "cell_type": "markdown",
            "metadata": {},
            "source": "Now it\u2019s time for you to work on the data set. First, please create a table of all classes with the respective counts, but this time, please order the table by the count number, ascending."
        },
        {
            "cell_type": "code",
            "execution_count": 269,
            "metadata": {},
            "outputs": [
                {
                    "name": "stdout",
                    "output_type": "stream",
                    "text": "6.7\n"
                }
            ],
            "source": "#mean calculate with RDD\nsum=rdd.sum()\nn=rdd.count()\nmean=sum/float(n)\nprint(mean)"
        },
        {
            "cell_type": "markdown",
            "metadata": {},
            "source": "Pixiedust is a very sophisticated library. It takes care of sorting as well. Please modify the bar chart so that it gets sorted by the number of elements per class, ascending. Hint: It\u2019s an option available in the UI once rendered using the display() function."
        },
        {
            "cell_type": "code",
            "execution_count": 270,
            "metadata": {},
            "outputs": [
                {
                    "name": "stdout",
                    "output_type": "stream",
                    "text": "median= 6.5\n6.5\n"
                }
            ],
            "source": "#median calculate with RDD\nsortedandindexed=rdd.sortBy(lambda x:x).zipWithIndex().map(lambda x:x[::-1])\nn = sortedandindexed.count()\nif (n % 2==1):\n    index = (n-1)/2\n    print (\"median=\",(sortedandindexed.lookup(index)))\n    median=sortedandindexed.lookup(index)\nelse:\n    index1=(n/2)-1\n    index2=(n/2)\n    value1=sortedandindexed.lookup(index1)[0]\n    value2=sortedandindexed.lookup(index2)[0]\n    print (\"median=\",(value1 + value2)/2)\n    median=(value1 + value2)/2\nprint(median)"
        },
        {
            "cell_type": "markdown",
            "metadata": {},
            "source": "Imbalanced classes can cause pain in machine learning. Therefore let\u2019s rebalance. In the flowing we limit the number of elements per class to the amount of the least represented class. This is called undersampling. Other ways of rebalancing can be found here:\n\nhttps://machinelearningmastery.com/tactics-to-combat-imbalanced-classes-in-your-machine-learning-dataset/"
        },
        {
            "cell_type": "code",
            "execution_count": 271,
            "metadata": {
                "scrolled": true
            },
            "outputs": [
                {
                    "name": "stdout",
                    "output_type": "stream",
                    "text": "1.7916472867168916\n"
                }
            ],
            "source": "#standard desviation calculate with RDD\nfrom math import sqrt\nsd=sqrt(rdd.map(lambda x:pow(x-mean,2)).sum()/float(n))\nprint(sd)"
        },
        {
            "cell_type": "markdown",
            "metadata": {},
            "source": "Please verify, by using the code cell below, if df_balanced has the same number of elements per class. You should get 6683 elements per class."
        },
        {
            "cell_type": "code",
            "execution_count": 262,
            "metadata": {},
            "outputs": [
                {
                    "name": "stdout",
                    "output_type": "stream",
                    "text": "n= 10\nmean= 8.8\nstandard desviation= 10.562196741208714\nskewness= 1.4549069329914\n"
                }
            ],
            "source": "#skewness calculate with RDD\nprint(\"n=\",n)\nprint(\"mean=\",mean)\nprint(\"standard desviation=\",sd)\nskewness=rdd.map(lambda x: pow(x-mean,3)/pow(sd,3)).sum()/float(n)\nprint(\"skewness=\",skewness)"
        },
        {
            "cell_type": "code",
            "execution_count": 263,
            "metadata": {},
            "outputs": [
                {
                    "name": "stdout",
                    "output_type": "stream",
                    "text": "n= 10\nmean= 8.8\nstandard desviation= 10.562196741208714\nskewness= 1.4549069329914\nkurtosis= 3.663124005193276\n"
                }
            ],
            "source": "#Kurtosis calculate with RDD\nprint(\"n=\",n)\nprint(\"mean=\",mean)\nprint(\"standard desviation=\",sd)\nprint(\"skewness=\",skewness)\nkurtosis=rdd.map(lambda x: pow(x-mean,4)/pow(sd,4)).sum()/float(n)\nprint(\"kurtosis=\",kurtosis)"
        },
        {
            "cell_type": "code",
            "execution_count": 247,
            "metadata": {},
            "outputs": [
                {
                    "name": "stdout",
                    "output_type": "stream",
                    "text": "49.5\n49.5\n-49.5\n"
                }
            ],
            "source": "#covariance calculate with RDD\ndatax=(range(100))\ndatay=(range(100))\nrddx=sc.parallelize(datax)\nrddy=sc.parallelize(datay)\nmeanx=rddx.sum()/float(rddx.count())\nmeany=rddy.sum()/float(rddy.count())\nprint(meanx)\nprint(meany)\nrddxy=rddx.zip(rddy)\nrddxy.take(10)\n\nrddx.map(lambda x: (x-meanx)).map(lambda y: (y-meany)).sum()/float(rddxy.count())\nprint(covxy)"
        },
        {
            "cell_type": "code",
            "execution_count": null,
            "metadata": {},
            "outputs": [],
            "source": ""
        }
    ],
    "metadata": {
        "kernelspec": {
            "display_name": "Python 3.6",
            "language": "python",
            "name": "python3"
        },
        "language_info": {
            "codemirror_mode": {
                "name": "ipython",
                "version": 3
            },
            "file_extension": ".py",
            "mimetype": "text/x-python",
            "name": "python",
            "nbconvert_exporter": "python",
            "pygments_lexer": "ipython3",
            "version": "3.6.9"
        }
    },
    "nbformat": 4,
    "nbformat_minor": 1
}